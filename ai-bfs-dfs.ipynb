{
  "nbformat": 4,
  "nbformat_minor": 0,
  "metadata": {
    "colab": {
      "provenance": []
    },
    "kernelspec": {
      "name": "python3",
      "display_name": "Python 3"
    },
    "language_info": {
      "name": "python"
    }
  },
  "cells": [
    {
      "cell_type": "code",
      "execution_count": null,
      "metadata": {
        "colab": {
          "base_uri": "https://localhost:8080/"
        },
        "id": "XbaSEW03yoP2",
        "outputId": "da76e012-9640-4efc-b378-af04737e4c79"
      },
      "outputs": [
        {
          "output_type": "stream",
          "name": "stdout",
          "text": [
            "Input the graph:\n",
            "Enter the number of nodes in the graph: 4\n",
            "Enter the node: A\n",
            "Enter the neighbors of A (comma-separated): B, C\n",
            "Enter the node: B\n",
            "Enter the neighbors of B (comma-separated): A, D\n",
            "Enter the node: C\n",
            "Enter the neighbors of C (comma-separated): A\n",
            "Enter the node: D\n",
            "Enter the neighbors of D (comma-separated): B\n",
            "Enter the starting node: A\n",
            "BFS: ['A', 'B', 'C', 'D']\n",
            "DFS: ['A', 'C', 'B', 'D']\n"
          ]
        }
      ],
      "source": [
        "from collections import deque\n",
        "\n",
        "# Function to input the graph from the user\n",
        "def input_graph():\n",
        "    graph = {}\n",
        "    num_nodes = int(input(\"Enter the number of nodes in the graph: \"))\n",
        "    for _ in range(num_nodes):\n",
        "        node = input(\"Enter the node: \")\n",
        "        neighbors = input(f\"Enter the neighbors of {node} (comma-separated): \").split(',')\n",
        "        graph[node] = [neighbor.strip() for neighbor in neighbors if neighbor.strip()]\n",
        "    return graph\n",
        "\n",
        "# BFS Implementation\n",
        "def bfs(graph, start):\n",
        "    visited = set()\n",
        "    queue = deque([start])\n",
        "    bfs_order = []\n",
        "\n",
        "    while queue:\n",
        "        node = queue.popleft()\n",
        "        if node not in visited:\n",
        "            visited.add(node)\n",
        "            bfs_order.append(node)\n",
        "            queue.extend(neighbor for neighbor in graph.get(node, []) if neighbor not in visited)\n",
        "    return bfs_order\n",
        "\n",
        "# DFS Implementation\n",
        "def dfs(graph, start):\n",
        "    visited = set()\n",
        "    stack = [start]\n",
        "    dfs_order = []\n",
        "\n",
        "    while stack:\n",
        "        node = stack.pop()\n",
        "        if node not in visited:\n",
        "            visited.add(node)\n",
        "            dfs_order.append(node)\n",
        "            stack.extend(neighbor for neighbor in graph.get(node, []) if neighbor not in visited)\n",
        "    return dfs_order\n",
        "\n",
        "# Main function\n",
        "if __name__ == \"__main__\":\n",
        "    print(\"Input the graph:\")\n",
        "    graph = input_graph()\n",
        "    start_node = input(\"Enter the starting node: \")\n",
        "\n",
        "    print(\"BFS:\", bfs(graph, start_node))\n",
        "    print(\"DFS:\", dfs(graph, start_node))\n"
      ]
    }
  ]
}