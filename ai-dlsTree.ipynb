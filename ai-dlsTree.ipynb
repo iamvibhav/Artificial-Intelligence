{
  "nbformat": 4,
  "nbformat_minor": 0,
  "metadata": {
    "colab": {
      "provenance": []
    },
    "kernelspec": {
      "name": "python3",
      "display_name": "Python 3"
    },
    "language_info": {
      "name": "python"
    }
  },
  "cells": [
    {
      "cell_type": "code",
      "execution_count": null,
      "metadata": {
        "colab": {
          "base_uri": "https://localhost:8080/"
        },
        "id": "H_KsW8XYfd4t",
        "outputId": "7c46c61e-e6f5-443b-88af-fd6678fc94ad"
      },
      "outputs": [
        {
          "output_type": "stream",
          "name": "stdout",
          "text": [
            "\n",
            "Creating tree structure...\n",
            "Enter nodes in parent-child format (parent child1 child2 ...), one line per parent\n",
            "Example input:\n",
            "A B C D\n",
            "B E F\n",
            "Enter 'done' when finished\n",
            "\n",
            "A B C D\n",
            "B E F\n",
            "C G H\n",
            "D I J\n",
            "E K\n",
            "done\n",
            "\n",
            "Tree created successfully!\n",
            "Root node is: A\n",
            "Enter goal node: K\n",
            "Enter depth limit: 4\n",
            "\n",
            "Path found: ['A', 'B', 'E', 'K']\n"
          ]
        }
      ],
      "source": [
        "class Node:\n",
        "    def __init__(self, v):\n",
        "        self.v = v\n",
        "        self.c = []\n",
        "\n",
        "def dls(root, target, limit):\n",
        "    def dfs(node, path, depth):\n",
        "        if depth == 0:\n",
        "            return None\n",
        "        if node.v == target:\n",
        "            return path\n",
        "        for child in node.c:\n",
        "            res = dfs(child, path + [child.v], depth - 1)\n",
        "            if res:\n",
        "                return res\n",
        "        return None\n",
        "\n",
        "    return dfs(root, [root.v], limit)\n",
        "\n",
        "if __name__ == \"__main__\":\n",
        "    print(\"\\nCreating tree structure...\")\n",
        "    print(\"Enter nodes in parent-child format (parent child1 child2 ...), one line per parent\")\n",
        "    print(\"Example input:\")\n",
        "    print(\"A B C D\")\n",
        "    print(\"B E F\")\n",
        "    print(\"Enter 'done' when finished\\n\")\n",
        "\n",
        "    try:\n",
        "        nodes = {}\n",
        "        while True:\n",
        "            line = input().strip()\n",
        "            if line.lower() == 'done':\n",
        "                break\n",
        "            values = line.split()\n",
        "            if len(values) < 1:\n",
        "                print(\"Error: Each line must have at least a parent node!\")\n",
        "                continue\n",
        "\n",
        "            parent = values[0]\n",
        "            children = values[1:]\n",
        "\n",
        "            if parent not in nodes:\n",
        "                nodes[parent] = Node(parent)\n",
        "            for child in children:\n",
        "                if child not in nodes:\n",
        "                    nodes[child] = Node(child)\n",
        "                nodes[parent].c.append(nodes[child])\n",
        "\n",
        "        if not nodes:\n",
        "            print(\"Error: No nodes entered!\")\n",
        "        else:\n",
        "            print(\"\\nTree created successfully!\")\n",
        "            root_node = list(nodes.keys())[0]\n",
        "            print(f\"Root node is: {root_node}\")\n",
        "\n",
        "            tgt = input(\"Enter goal node: \").strip()\n",
        "            if tgt not in nodes:\n",
        "                print(\"Error: Goal node not in tree!\")\n",
        "            else:\n",
        "                try:\n",
        "                    lim = int(input(\"Enter depth limit: \"))\n",
        "                    if lim < 0:\n",
        "                        print(\"Error: Depth limit must be non-negative!\")\n",
        "                    else:\n",
        "                        p = dls(nodes[root_node], tgt, lim)\n",
        "                        if p:\n",
        "                            print(f\"\\nPath found: {p}\")\n",
        "                        else:\n",
        "                            print(f\"\\nNo path to target within depth limit {lim}\")\n",
        "                except ValueError:\n",
        "                    print(\"Error: Depth limit must be an integer!\")\n",
        "\n",
        "    except Exception as e:\n",
        "        print(f\"An error occurred: {str(e)}\")"
      ]
    }
  ]
}