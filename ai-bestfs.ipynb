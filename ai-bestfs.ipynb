{
  "nbformat": 4,
  "nbformat_minor": 0,
  "metadata": {
    "colab": {
      "provenance": []
    },
    "kernelspec": {
      "name": "python3",
      "display_name": "Python 3"
    },
    "language_info": {
      "name": "python"
    }
  },
  "cells": [
    {
      "cell_type": "code",
      "execution_count": null,
      "metadata": {
        "colab": {
          "base_uri": "https://localhost:8080/"
        },
        "id": "JD6Q1NSjdwws",
        "outputId": "0ce78e7d-3193-4004-b5eb-f4e3730d9773"
      },
      "outputs": [
        {
          "output_type": "stream",
          "name": "stdout",
          "text": [
            "Treasure found at (4, 4)!\n"
          ]
        }
      ],
      "source": [
        "import heapq\n",
        "\n",
        "def manhattan_distance(x1, y1, x2, y2):\n",
        "    return abs(x1 - x2) + abs(y1 - y2)\n",
        "\n",
        "def best_first_search(grid, start, goal):\n",
        "    rows, cols = len(grid), len(grid[0])\n",
        "    pq = []\n",
        "    heapq.heappush(pq, (0, start))\n",
        "    visited = set()\n",
        "    visited.add(start)\n",
        "    goal_x, goal_y = goal\n",
        "\n",
        "    while pq:\n",
        "        _, current = heapq.heappop(pq)\n",
        "        x, y = current\n",
        "        if (x, y) == goal:\n",
        "            return True\n",
        "        for dx, dy in [(-1, 0), (1, 0), (0, -1), (0, 1)]:\n",
        "            nx, ny = x + dx, y + dy\n",
        "            if 0 <= nx < rows and 0 <= ny < cols:\n",
        "                if (nx, ny) not in visited:\n",
        "                    visited.add((nx, ny))\n",
        "                    h = manhattan_distance(nx, ny, goal_x, goal_y)\n",
        "                    heapq.heappush(pq, (h, (nx, ny)))\n",
        "\n",
        "    return False\n",
        "\n",
        "def generate_grid(goal):\n",
        "    rows, cols = 5, 5\n",
        "    grid = [[manhattan_distance(x, y, goal[0], goal[1]) for y in range(cols)] for x in range(rows)]\n",
        "    return grid\n",
        "\n",
        "if __name__ == \"__main__\":\n",
        "    goal = (4, 4)\n",
        "    start = (0, 0)\n",
        "    grid = generate_grid(goal)\n",
        "    found = best_first_search(grid, start, goal)\n",
        "\n",
        "    if found:\n",
        "        print(f\"Treasure found at {goal}!\")\n",
        "    else:\n",
        "        print(\"Treasure not found.\")\n"
      ]
    }
  ]
}